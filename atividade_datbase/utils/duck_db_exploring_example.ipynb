{
 "cells": [
  {
   "cell_type": "markdown",
   "metadata": {},
   "source": [
    "# Site Oficial\n",
    "https://duckdb.org/\n",
    "\n",
    "## Documentação \n",
    "https://duckdb.org/docs/\n",
    "\n",
    "## Referência para estudo\n",
    "https://duckdb.org/docs/api/python/overview\n",
    "https://gitlab.com/lipe.nscm/duckdb-estudos/"
   ]
  },
  {
   "cell_type": "code",
   "execution_count": null,
   "metadata": {},
   "outputs": [],
   "source": [
    "pip install -r requirements.txt"
   ]
  },
  {
   "cell_type": "code",
   "execution_count": 21,
   "metadata": {},
   "outputs": [],
   "source": [
    "import duckdb as ddb\n",
    "import pandas as pd"
   ]
  },
  {
   "cell_type": "code",
   "execution_count": 22,
   "metadata": {},
   "outputs": [],
   "source": [
    "df_clientes = pd.read_csv('..\\\\db\\\\tb_cliente.csv',delimiter=';', encoding = \"ISO-8859-1\", index_col=0) "
   ]
  },
  {
   "cell_type": "code",
   "execution_count": 24,
   "metadata": {},
   "outputs": [],
   "source": [
    "conn = ddb.connect()"
   ]
  },
  {
   "cell_type": "code",
   "execution_count": 25,
   "metadata": {},
   "outputs": [
    {
     "data": {
      "text/html": [
       "<div>\n",
       "<style scoped>\n",
       "    .dataframe tbody tr th:only-of-type {\n",
       "        vertical-align: middle;\n",
       "    }\n",
       "\n",
       "    .dataframe tbody tr th {\n",
       "        vertical-align: top;\n",
       "    }\n",
       "\n",
       "    .dataframe thead th {\n",
       "        text-align: right;\n",
       "    }\n",
       "</style>\n",
       "<table border=\"1\" class=\"dataframe\">\n",
       "  <thead>\n",
       "    <tr style=\"text-align: right;\">\n",
       "      <th></th>\n",
       "      <th>cpf_cliente</th>\n",
       "      <th>nome_cliente</th>\n",
       "      <th>email_cliente</th>\n",
       "      <th>telefone_cliente</th>\n",
       "    </tr>\n",
       "    <tr>\n",
       "      <th>id_cliente</th>\n",
       "      <th></th>\n",
       "      <th></th>\n",
       "      <th></th>\n",
       "      <th></th>\n",
       "    </tr>\n",
       "  </thead>\n",
       "  <tbody>\n",
       "    <tr>\n",
       "      <th>1</th>\n",
       "      <td>301.845.972-50</td>\n",
       "      <td>Ana Laura Casa Grande</td>\n",
       "      <td>0800 604 1346</td>\n",
       "      <td>portoliam@example.com</td>\n",
       "    </tr>\n",
       "    <tr>\n",
       "      <th>2</th>\n",
       "      <td>452.807.361-71</td>\n",
       "      <td>Apollo Peixoto</td>\n",
       "      <td>+55 84 0074 9580</td>\n",
       "      <td>isabellynovais@example.com</td>\n",
       "    </tr>\n",
       "    <tr>\n",
       "      <th>3</th>\n",
       "      <td>976.380.514-75</td>\n",
       "      <td>Luna Nascimento</td>\n",
       "      <td>21 2893-8250</td>\n",
       "      <td>biancacarvalho@example.net</td>\n",
       "    </tr>\n",
       "    <tr>\n",
       "      <th>4</th>\n",
       "      <td>610.239.785-12</td>\n",
       "      <td>Erick Aparecida</td>\n",
       "      <td>(051) 3292-5179</td>\n",
       "      <td>montenegrolaura@example.org</td>\n",
       "    </tr>\n",
       "    <tr>\n",
       "      <th>5</th>\n",
       "      <td>456.819.207-20</td>\n",
       "      <td>João Felipe Farias</td>\n",
       "      <td>0800 503 0354</td>\n",
       "      <td>joao-gabriel61@example.net</td>\n",
       "    </tr>\n",
       "  </tbody>\n",
       "</table>\n",
       "</div>"
      ],
      "text/plain": [
       "               cpf_cliente           nome_cliente     email_cliente  \\\n",
       "id_cliente                                                            \n",
       "1           301.845.972-50  Ana Laura Casa Grande     0800 604 1346   \n",
       "2           452.807.361-71         Apollo Peixoto  +55 84 0074 9580   \n",
       "3           976.380.514-75        Luna Nascimento      21 2893-8250   \n",
       "4           610.239.785-12        Erick Aparecida   (051) 3292-5179   \n",
       "5           456.819.207-20     João Felipe Farias     0800 503 0354   \n",
       "\n",
       "                       telefone_cliente  \n",
       "id_cliente                               \n",
       "1                 portoliam@example.com  \n",
       "2            isabellynovais@example.com  \n",
       "3            biancacarvalho@example.net  \n",
       "4           montenegrolaura@example.org  \n",
       "5            joao-gabriel61@example.net  "
      ]
     },
     "execution_count": 25,
     "metadata": {},
     "output_type": "execute_result"
    }
   ],
   "source": [
    "df_clientes.head(5)"
   ]
  },
  {
   "cell_type": "code",
   "execution_count": 34,
   "metadata": {},
   "outputs": [
    {
     "data": {
      "text/plain": [
       "---------------------\n",
       "--- Relation Tree ---\n",
       "---------------------\n",
       "Subquery\n",
       "\n",
       "---------------------\n",
       "-- Result Columns  --\n",
       "---------------------\n",
       "- count_star() (BIGINT)\n",
       "\n",
       "---------------------\n",
       "-- Result Preview  --\n",
       "---------------------\n",
       "count_star()\t\n",
       "BIGINT\t\n",
       "[ Rows: 1]\n",
       "100\n",
       "\n"
      ]
     },
     "execution_count": 34,
     "metadata": {},
     "output_type": "execute_result"
    }
   ],
   "source": [
    "ddb.query('SELECT count(*) FROM df_clientes')"
   ]
  },
  {
   "cell_type": "code",
   "execution_count": null,
   "metadata": {},
   "outputs": [],
   "source": []
  }
 ],
 "metadata": {
  "kernelspec": {
   "display_name": "ingestao_simples",
   "language": "python",
   "name": "ingestao_simples"
  },
  "language_info": {
   "codemirror_mode": {
    "name": "ipython",
    "version": 3
   },
   "file_extension": ".py",
   "mimetype": "text/x-python",
   "name": "python",
   "nbconvert_exporter": "python",
   "pygments_lexer": "ipython3",
   "version": "3.11.5"
  }
 },
 "nbformat": 4,
 "nbformat_minor": 2
}
